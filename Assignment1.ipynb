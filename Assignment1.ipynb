{
 "cells": [
  {
   "cell_type": "code",
   "execution_count": null,
   "id": "f3bb9db7-ea4e-4b09-99e1-8a46cc166583",
   "metadata": {},
   "outputs": [],
   "source": [
    "x=int(input(\"enter the first number\"))\n",
    "y=int(input(\"enter the second number\"))\n",
    "def swap(x,y):\n",
    "    x,y=y,x\n",
    "    return (f\"x={x} and y={y}\")\n",
    "print(f\"The numbers after swapping are {swap(x,y)}\")"
   ]
  },
  {
   "cell_type": "code",
   "execution_count": null,
   "id": "4ed6ee89-5f0e-4d77-afda-6068c3a9db52",
   "metadata": {},
   "outputs": [],
   "source": [
    "l=int(input(\"enter the length of the rectangle: \"))\n",
    "b=int(input(\"enter the breadth of the rectangle: \"))\n",
    "def area(l,b):\n",
    "    a=l*b\n",
    "    return a\n",
    "print(f\"The area of the rectagle is {area(l,b)}\")"
   ]
  },
  {
   "cell_type": "code",
   "execution_count": null,
   "id": "3c21c12f-1efc-48c0-ad3a-6de4c707a6d0",
   "metadata": {},
   "outputs": [],
   "source": [
    "celcius=float(input(\"Enter the temperature in degree celcius: \"))\n",
    "def converter(celcius):\n",
    "    f=32+(celcius*1.8)\n",
    "    return f\n",
    "print(f\"The temperature in degree fahrenheit is {converter(celcius)}\")"
   ]
  },
  {
   "cell_type": "code",
   "execution_count": null,
   "id": "4b05eac2-ad11-4425-a99a-5e0237263a38",
   "metadata": {},
   "outputs": [],
   "source": [
    "str=input(\"enter a string: \")\n",
    "print(f\"The length of the string is {len(str)}\")"
   ]
  },
  {
   "cell_type": "code",
   "execution_count": null,
   "id": "b5e00459-332b-49c7-8b3e-f345a009be48",
   "metadata": {},
   "outputs": [],
   "source": [
    "str=input(\"Enter the string: \")\n",
    "count=0\n",
    "for i in str:\n",
    "    i=i.lower()\n",
    "    if i in \"aeiou\":\n",
    "        count=count+1\n",
    "print(count)"
   ]
  },
  {
   "cell_type": "code",
   "execution_count": null,
   "id": "bb89036f-4083-4f6e-b721-ccb2e9ee1e0a",
   "metadata": {},
   "outputs": [],
   "source": [
    "str=input(\"enter a string: \")\n",
    "print(str[-1::-1])"
   ]
  },
  {
   "cell_type": "code",
   "execution_count": null,
   "id": "c47ec8be-c544-4f7f-98ea-e0d71c1eb789",
   "metadata": {},
   "outputs": [],
   "source": [
    "str=input(\"enter a string: \")\n",
    "if str==str[-1::-1]:\n",
    "    print(\"The given string is a palindrome\")\n",
    "else:\n",
    "    print(\"The given string is not a palindrome\")"
   ]
  },
  {
   "cell_type": "code",
   "execution_count": null,
   "id": "257bbfcd-2822-4ae4-950e-4c7e6bd8edfa",
   "metadata": {},
   "outputs": [],
   "source": [
    "string=input(\"Enter a string: \")\n",
    "def removespace(string):\n",
    "    char=\"\"\n",
    "    for i in string:\n",
    "        if i==\" \":\n",
    "            i=\"\"\n",
    "        else:\n",
    "            i=i\n",
    "        char+=i\n",
    "    return char\n",
    "print(removespace(string))"
   ]
  }
 ],
 "metadata": {
  "kernelspec": {
   "display_name": "Python 3 (ipykernel)",
   "language": "python",
   "name": "python3"
  },
  "language_info": {
   "codemirror_mode": {
    "name": "ipython",
    "version": 3
   },
   "file_extension": ".py",
   "mimetype": "text/x-python",
   "name": "python",
   "nbconvert_exporter": "python",
   "pygments_lexer": "ipython3",
   "version": "3.10.8"
  }
 },
 "nbformat": 4,
 "nbformat_minor": 5
}
